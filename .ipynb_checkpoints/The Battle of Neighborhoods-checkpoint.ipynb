{
 "cells": [
  {
   "cell_type": "markdown",
   "metadata": {},
   "source": [
    "# 1, Introduction\n",
    "- Problem: Find best location to open a restaurant. Analyze current restaurants in this area: number of restaurants, distribution of location, type ...\n",
    "- Target audience: who wants to open a restaurant in the neighborhood of Toronto. \n",
    "- Why they care: they need to know what area is suitable for opening, gaining more customers and being competitive on the food market of Toronto"
   ]
  },
  {
   "cell_type": "markdown",
   "metadata": {},
   "source": [
    "# 2, Data\n",
    "- Description: Foursquare location data\n",
    "- Example: List of restaurants around Toronto (Features: Venue, Venue latitude, Venue longitude, Venue category)\n",
    "\n",
    "| Venue    | Venue latitude|  Venue longitude | Venue category   |\n",
    "|----------|:-------------:|-----------------:|-----------------:|\n",
    "| Pantheon |  43.677621    | -79.351434       | Greek Restaurant |\n",
    "\n",
    "- Method: I use the Foursquare API to explore the neighborhoods and segment them, then use the explore function to get the most common venue categories in each neighborhood, and then group them into clusters. I will use k-means clustering algorithm to complete this task."
   ]
  }
 ],
 "metadata": {
  "kernelspec": {
   "display_name": "Python 3",
   "language": "python",
   "name": "python3"
  },
  "language_info": {
   "codemirror_mode": {
    "name": "ipython",
    "version": 3
   },
   "file_extension": ".py",
   "mimetype": "text/x-python",
   "name": "python",
   "nbconvert_exporter": "python",
   "pygments_lexer": "ipython3",
   "version": "3.7.3"
  }
 },
 "nbformat": 4,
 "nbformat_minor": 2
}
